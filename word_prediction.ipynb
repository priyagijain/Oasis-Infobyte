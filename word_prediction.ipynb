{
  "cells": [
    {
      "cell_type": "markdown",
      "metadata": {
        "id": "view-in-github",
        "colab_type": "text"
      },
      "source": [
        "<a href=\"https://colab.research.google.com/github/priyagijain/projects/blob/main/word_prediction.ipynb\" target=\"_parent\"><img src=\"https://colab.research.google.com/assets/colab-badge.svg\" alt=\"Open In Colab\"/></a>"
      ]
    },
    {
      "cell_type": "code",
      "execution_count": null,
      "metadata": {
        "id": "YkycQrnlMg5J"
      },
      "outputs": [],
      "source": [
        "#Importing required libraries\n",
        "import tensorflow as tf\n",
        "import pandas as pd\n",
        "from tensorflow.keras.preprocessing.text import Tokenizer\n",
        "from tensorflow.keras.preprocessing.sequence import pad_sequences"
      ]
    },
    {
      "cell_type": "code",
      "execution_count": null,
      "metadata": {
        "colab": {
          "base_uri": "https://localhost:8080/"
        },
        "id": "UZUIMqh7SiMu",
        "outputId": "ca697c0d-5dac-48c6-ac3d-5f5b220e071f"
      },
      "outputs": [
        {
          "output_type": "execute_result",
          "data": {
            "text/plain": [
              "<_io.TextIOWrapper name='/content/1661-0.txt' mode='r' encoding='UTF-8'>"
            ]
          },
          "metadata": {},
          "execution_count": 2
        }
      ],
      "source": [
        "open('/content/1661-0.txt')"
      ]
    },
    {
      "cell_type": "code",
      "execution_count": null,
      "metadata": {
        "id": "twHSAG-ETFAN"
      },
      "outputs": [],
      "source": [
        "#Load and preprocess the text dataset\n",
        "file_path = \"/content/1661-0.txt\"\n",
        "with open(file_path, \"r\") as file:\n",
        "    text_data = file.read()"
      ]
    },
    {
      "cell_type": "code",
      "execution_count": null,
      "metadata": {
        "id": "z9HN3q_eTcCG"
      },
      "outputs": [],
      "source": [
        "tokenizer = Tokenizer()\n",
        "tokenizer.fit_on_texts([text_data])\n",
        "total_words = len(tokenizer.word_index) + 1"
      ]
    },
    {
      "cell_type": "code",
      "execution_count": null,
      "metadata": {
        "id": "OEM9ROxNTodu"
      },
      "outputs": [],
      "source": [
        "#Create input sequences and target words\n",
        "input_sequences = []\n",
        "target_words = []\n",
        "for line in text_data.split(\"\\n\"):\n",
        "    tokenized_words = tokenizer.texts_to_sequences([line])[0]\n",
        "    for i in range(1, len(tokenized_words)):\n",
        "        input_sequences.append(tokenized_words[:i])\n",
        "        target_words.append(tokenized_words[i])"
      ]
    },
    {
      "cell_type": "code",
      "execution_count": null,
      "metadata": {
        "id": "dzFJgLdVTuZt"
      },
      "outputs": [],
      "source": [
        "#Pad sequences\n",
        "max_sequence_length = max([len(seq) for seq in input_sequences]) + 1\n",
        "input_sequences = pad_sequences(input_sequences, maxlen=max_sequence_length - 1)"
      ]
    },
    {
      "cell_type": "code",
      "execution_count": null,
      "metadata": {
        "id": "rFHfVfNRT1eH"
      },
      "outputs": [],
      "source": [
        "#Convert target words to categorical\n",
        "target_words = tf.keras.utils.to_categorical(target_words, num_classes=total_words)"
      ]
    },
    {
      "cell_type": "code",
      "execution_count": null,
      "metadata": {
        "id": "lcnSHCZPT7kt"
      },
      "outputs": [],
      "source": [
        "#Define the RNN model\n",
        "model = tf.keras.models.Sequential([\n",
        "    tf.keras.layers.Embedding(total_words, 100, input_length=max_sequence_length - 1),\n",
        "    tf.keras.layers.LSTM(150),\n",
        "    tf.keras.layers.Dense(total_words, activation='softmax')\n",
        "])"
      ]
    },
    {
      "cell_type": "code",
      "execution_count": null,
      "metadata": {
        "id": "h8CYaVJNUCG2"
      },
      "outputs": [],
      "source": [
        "model.compile(loss='categorical_crossentropy', optimizer='adam', metrics=['accuracy'])"
      ]
    },
    {
      "cell_type": "code",
      "execution_count": null,
      "metadata": {
        "colab": {
          "base_uri": "https://localhost:8080/"
        },
        "id": "IgoCiHfKUEOW",
        "outputId": "f9b9e400-28db-4b81-886d-cb663a6cb352"
      },
      "outputs": [
        {
          "output_type": "stream",
          "name": "stdout",
          "text": [
            "Epoch 1/5\n",
            "3176/3176 [==============================] - 147s 46ms/step - loss: 6.2618 - accuracy: 0.0764\n",
            "Epoch 2/5\n",
            "3176/3176 [==============================] - 143s 45ms/step - loss: 5.4942 - accuracy: 0.1275\n",
            "Epoch 3/5\n",
            "3176/3176 [==============================] - 143s 45ms/step - loss: 5.0871 - accuracy: 0.1530\n",
            "Epoch 4/5\n",
            "3176/3176 [==============================] - 143s 45ms/step - loss: 4.7431 - accuracy: 0.1721\n",
            "Epoch 5/5\n",
            "3176/3176 [==============================] - 143s 45ms/step - loss: 4.4272 - accuracy: 0.1924\n"
          ]
        },
        {
          "output_type": "execute_result",
          "data": {
            "text/plain": [
              "<keras.callbacks.History at 0x7f4d5ab07e50>"
            ]
          },
          "metadata": {},
          "execution_count": 11
        }
      ],
      "source": [
        "model.fit(input_sequences, target_words, epochs=5, verbose=1)"
      ]
    },
    {
      "cell_type": "code",
      "execution_count": null,
      "metadata": {
        "id": "lUVa5CtOUORO",
        "colab": {
          "base_uri": "https://localhost:8080/"
        },
        "outputId": "a8531832-2b84-4144-cb32-5b19147db5f1"
      },
      "outputs": [
        {
          "output_type": "stream",
          "name": "stdout",
          "text": [
            "1/1 [==============================] - 0s 17ms/step\n",
            "1/1 [==============================] - 0s 21ms/step\n",
            "1/1 [==============================] - 0s 23ms/step\n",
            "Generated Text:\n",
            "She is a little one\n"
          ]
        }
      ],
      "source": [
        "#Generate predictions\n",
        "seed_text = \"She is\"\n",
        "next_words = 3\n",
        "\n",
        "for _ in range(next_words):\n",
        "    tokenized_seed = tokenizer.texts_to_sequences([seed_text])[0]\n",
        "    padded_seed = pad_sequences([tokenized_seed], maxlen=max_sequence_length - 1)\n",
        "    predicted_index = tf.argmax(model.predict(padded_seed), axis=-1)[0]\n",
        "    predicted_word = \"\"\n",
        "\n",
        "    for word, index in tokenizer.word_index.items():\n",
        "        if index == predicted_index:\n",
        "            predicted_word = word\n",
        "            break\n",
        "\n",
        "    seed_text += \" \" + predicted_word\n",
        "\n",
        "print(\"Generated Text:\")\n",
        "print(seed_text)"
      ]
    }
  ],
  "metadata": {
    "colab": {
      "provenance": [],
      "authorship_tag": "ABX9TyM8S6RvNd1ojPYdfLGe1SyV",
      "include_colab_link": true
    },
    "kernelspec": {
      "display_name": "Python 3",
      "name": "python3"
    },
    "language_info": {
      "name": "python"
    }
  },
  "nbformat": 4,
  "nbformat_minor": 0
}