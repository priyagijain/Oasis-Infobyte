{
  "cells": [
    {
      "cell_type": "markdown",
      "metadata": {
        "id": "view-in-github",
        "colab_type": "text"
      },
      "source": [
        "<a href=\"https://colab.research.google.com/github/priyagijain/projects/blob/main/handwriting.ipynb\" target=\"_parent\"><img src=\"https://colab.research.google.com/assets/colab-badge.svg\" alt=\"Open In Colab\"/></a>"
      ]
    },
    {
      "cell_type": "code",
      "execution_count": null,
      "metadata": {
        "id": "QJ6LwSGZ3tp-"
      },
      "outputs": [],
      "source": [
        "#Importing required libraries\n",
        "import tensorflow as tf\n",
        "from tensorflow.keras.datasets import mnist\n",
        "import matplotlib.pyplot as plt\n",
        "%matplotlib inline"
      ]
    },
    {
      "cell_type": "code",
      "execution_count": null,
      "metadata": {
        "id": "PFb1ZBfe329V",
        "colab": {
          "base_uri": "https://localhost:8080/"
        },
        "outputId": "c7d68833-0211-462e-c11e-eb9badda44be"
      },
      "outputs": [
        {
          "output_type": "stream",
          "name": "stdout",
          "text": [
            "Downloading data from https://storage.googleapis.com/tensorflow/tf-keras-datasets/mnist.npz\n",
            "11490434/11490434 [==============================] - 0s 0us/step\n"
          ]
        }
      ],
      "source": [
        "#Load the MNIST dataset\n",
        "(x_train, y_train), (x_test, y_test) = mnist.load_data()"
      ]
    },
    {
      "cell_type": "code",
      "execution_count": null,
      "metadata": {
        "id": "667VVwiA3-xq"
      },
      "outputs": [],
      "source": [
        "#Preprocess the data\n",
        "x_train = x_train.reshape(-1, 28, 28, 1) / 255.0\n",
        "x_test = x_test.reshape(-1, 28, 28, 1) / 255.0\n",
        "y_train = tf.keras.utils.to_categorical(y_train, num_classes=10)\n",
        "y_test = tf.keras.utils.to_categorical(y_test, num_classes=10)"
      ]
    },
    {
      "cell_type": "code",
      "execution_count": null,
      "metadata": {
        "id": "gQnonNC24BpS"
      },
      "outputs": [],
      "source": [
        "#Define the model architecture\n",
        "model = tf.keras.models.Sequential([\n",
        "    tf.keras.layers.Conv2D(32, (3, 3), activation='relu', input_shape=(28, 28, 1)),\n",
        "    tf.keras.layers.MaxPooling2D((2, 2)),\n",
        "    tf.keras.layers.Conv2D(64, (3, 3), activation='relu'),\n",
        "    tf.keras.layers.MaxPooling2D((2, 2)),\n",
        "    tf.keras.layers.Flatten(),\n",
        "    tf.keras.layers.Dense(64, activation='relu'),\n",
        "    tf.keras.layers.Dense(10, activation='softmax')\n",
        "])"
      ]
    },
    {
      "cell_type": "code",
      "execution_count": null,
      "metadata": {
        "id": "NqhSdVP74E_S"
      },
      "outputs": [],
      "source": [
        "#Compile the model\n",
        "model.compile(optimizer='adam', loss='categorical_crossentropy', metrics=['accuracy'])"
      ]
    },
    {
      "cell_type": "code",
      "execution_count": null,
      "metadata": {
        "colab": {
          "base_uri": "https://localhost:8080/"
        },
        "id": "Az_27FfR4f_W",
        "outputId": "4c106f9f-4b13-4483-95f9-2825df35620e"
      },
      "outputs": [
        {
          "output_type": "stream",
          "name": "stdout",
          "text": [
            "Epoch 1/10\n",
            "422/422 [==============================] - 60s 135ms/step - loss: 0.2466 - accuracy: 0.9269 - val_loss: 0.0964 - val_accuracy: 0.9737\n",
            "Epoch 2/10\n",
            "422/422 [==============================] - 63s 149ms/step - loss: 0.0669 - accuracy: 0.9803 - val_loss: 0.0446 - val_accuracy: 0.9865\n",
            "Epoch 3/10\n",
            "422/422 [==============================] - 55s 130ms/step - loss: 0.0463 - accuracy: 0.9858 - val_loss: 0.0437 - val_accuracy: 0.9887\n",
            "Epoch 4/10\n",
            "422/422 [==============================] - 55s 131ms/step - loss: 0.0378 - accuracy: 0.9881 - val_loss: 0.0396 - val_accuracy: 0.9897\n",
            "Epoch 5/10\n",
            "422/422 [==============================] - 54s 128ms/step - loss: 0.0295 - accuracy: 0.9909 - val_loss: 0.0456 - val_accuracy: 0.9878\n",
            "Epoch 6/10\n",
            "422/422 [==============================] - 56s 132ms/step - loss: 0.0239 - accuracy: 0.9924 - val_loss: 0.0392 - val_accuracy: 0.9898\n",
            "Epoch 7/10\n",
            "422/422 [==============================] - 54s 128ms/step - loss: 0.0187 - accuracy: 0.9945 - val_loss: 0.0386 - val_accuracy: 0.9903\n",
            "Epoch 8/10\n",
            "422/422 [==============================] - 54s 127ms/step - loss: 0.0159 - accuracy: 0.9949 - val_loss: 0.0334 - val_accuracy: 0.9903\n",
            "Epoch 9/10\n",
            "422/422 [==============================] - 54s 127ms/step - loss: 0.0119 - accuracy: 0.9960 - val_loss: 0.0506 - val_accuracy: 0.9898\n",
            "Epoch 10/10\n",
            "422/422 [==============================] - 54s 128ms/step - loss: 0.0099 - accuracy: 0.9969 - val_loss: 0.0520 - val_accuracy: 0.9903\n"
          ]
        },
        {
          "output_type": "execute_result",
          "data": {
            "text/plain": [
              "<keras.callbacks.History at 0x7fccca12bf70>"
            ]
          },
          "metadata": {},
          "execution_count": 6
        }
      ],
      "source": [
        "#Train the model\n",
        "model.fit(x_train, y_train, batch_size=128, epochs=10, validation_split=0.1)"
      ]
    },
    {
      "cell_type": "code",
      "execution_count": null,
      "metadata": {
        "id": "rX9ECNB44kbd"
      },
      "outputs": [],
      "source": [
        "#Get user-defined index\n",
        "user_index = int(input(\"Enter the index of the image you want to predict: \"))"
      ]
    },
    {
      "cell_type": "code",
      "execution_count": null,
      "metadata": {
        "id": "B2mXE2tM4p8l",
        "colab": {
          "base_uri": "https://localhost:8080/"
        },
        "outputId": "21e8da1f-ce31-4cce-af19-19c327983e1f"
      },
      "outputs": [
        {
          "output_type": "stream",
          "name": "stdout",
          "text": [
            "1/1 [==============================] - 0s 38ms/step\n"
          ]
        }
      ],
      "source": [
        "#Predict value at user-defined index\n",
        "prediction = model.predict(x_test[user_index].reshape(1, 28, 28, 1))\n",
        "predicted_label = tf.argmax(prediction, axis=1).numpy()[0]"
      ]
    },
    {
      "cell_type": "code",
      "execution_count": null,
      "metadata": {
        "id": "wFPXqujN4uXN",
        "colab": {
          "base_uri": "https://localhost:8080/",
          "height": 423
        },
        "outputId": "2e6bb7fe-b29a-469a-8f39-b951b2b976c6"
      },
      "outputs": [
        {
          "output_type": "stream",
          "name": "stdout",
          "text": [
            "Predicted label: 9\n"
          ]
        },
        {
          "output_type": "display_data",
          "data": {
            "text/plain": [
              "<Figure size 640x480 with 1 Axes>"
            ],
            "image/png": "[encoded data removed]"
          },
          "metadata": {}
        }
      ],
      "source": [
        "#Print the predicted label and show the image\n",
        "print(f\"Predicted label: {predicted_label}\")\n",
        "plt.imshow(x_test[user_index].reshape(28, 28), cmap='gray')\n",
        "plt.axis('off')\n",
        "plt.show()"
      ]
    }
  ],
  "metadata": {
    "colab": {
      "provenance": [],
      "authorship_tag": "ABX9TyP8SB9srHa0x3eu89xdMY6m",
      "include_colab_link": true
    },
    "kernelspec": {
      "display_name": "Python 3",
      "name": "python3"
    },
    "language_info": {
      "name": "python"
    }
  },
  "nbformat": 4,
  "nbformat_minor": 0
}